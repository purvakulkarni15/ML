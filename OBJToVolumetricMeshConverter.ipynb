{
  "nbformat": 4,
  "nbformat_minor": 0,
  "metadata": {
    "colab": {
      "provenance": []
    },
    "kernelspec": {
      "name": "python3",
      "display_name": "Python 3"
    },
    "language_info": {
      "name": "python"
    }
  },
  "cells": [
    {
      "cell_type": "markdown",
      "source": [
        "Mount google drive"
      ],
      "metadata": {
        "id": "wX_PS5OO_X_Z"
      }
    },
    {
      "cell_type": "code",
      "source": [
        "import os\n",
        "from google.colab import drive\n",
        "\n",
        "drive.mount('/content/drive')"
      ],
      "metadata": {
        "colab": {
          "base_uri": "https://localhost:8080/"
        },
        "id": "dol1NCt4x8m7",
        "outputId": "6cacf312-f212-4584-9bb1-88ab95d15b88"
      },
      "execution_count": 1,
      "outputs": [
        {
          "output_type": "stream",
          "name": "stdout",
          "text": [
            "Drive already mounted at /content/drive; to attempt to forcibly remount, call drive.mount(\"/content/drive\", force_remount=True).\n"
          ]
        }
      ]
    },
    {
      "cell_type": "markdown",
      "source": [
        "Utility classes"
      ],
      "metadata": {
        "id": "ky7ofjDnSDZL"
      }
    },
    {
      "cell_type": "code",
      "source": [
        "import sys\n",
        "import tensorflow as tf\n",
        "\n",
        "class Vector:\n",
        "  def __init__(self, x, y, z):\n",
        "    self.x = x\n",
        "    self.y = y\n",
        "    self.z = z\n",
        "\n",
        "  def __add__(self, other):\n",
        "    return Vector(self.x + other.x, self.y + other.y, self.z + other.z)\n",
        "\n",
        "  def __sub__(self, other):\n",
        "    return Vector(self.x - other.x, self.y - other.y, self.z - other.z)\n",
        "\n",
        "  def __div__(self, divisor):\n",
        "    return Vector(self.x/divisor, self.y/divisor, self.z/divisor)\n",
        "\n",
        "  def __mul__(self, multiplier):\n",
        "    return Vector(self.x*multiplier, self.y*multiplier, self.z*multiplier)\n",
        "\n",
        "class BoundingBox:\n",
        "  def __init__(self):\n",
        "    min_float = sys.float_info.min\n",
        "    max_float = sys.float_info.max\n",
        "    self.min = Vector(max_float, max_float, max_float)\n",
        "    self.max = Vector(min_float, min_float, min_float)"
      ],
      "metadata": {
        "id": "4ONdM82E1MKo"
      },
      "execution_count": 9,
      "outputs": []
    },
    {
      "cell_type": "markdown",
      "source": [
        "\n",
        "ObjToVolumetricMeshConverter"
      ],
      "metadata": {
        "id": "GNh-_5UjSLHD"
      }
    },
    {
      "cell_type": "code",
      "source": [
        "import numpy as np\n",
        "import shutil\n",
        "import zlib\n",
        "\n",
        "class ObjToVolumetricMeshConverter:\n",
        "\n",
        "  def Convert(self, src_folder_path, dest_folder_path, clamp_range, grid_dimensions):\n",
        "    point_cloud_set = self.ProcessOBJFolder(src_folder_path)\n",
        "    point_cloud_set = self.ClampInRange(clamp_range, point_cloud_set)\n",
        "    voxelized_mesh_set = self.ConvertToVoxelizedMeshSet(point_cloud_set, grid_dimensions)\n",
        "    self.SaveOnDisk(voxelized_mesh_set, dest_folder_path)\n",
        "\n",
        "  def SaveOnDisk(self, voxelized_mesh_set, dest_folder_path):\n",
        "    i=0\n",
        "    for mesh in voxelized_mesh_set:\n",
        "      filename = dest_folder_path+str(i)\n",
        "      self.SaveArray(mesh, filename)\n",
        "      i = i+1\n",
        "\n",
        "  def SaveArray(self, array, filename):\n",
        "    np.savez_compressed(filename, array=array)\n",
        "    os.rename(filename + \".npz\", filename + \".npy.z\")\n",
        "\n",
        "  def ProcessOBJFolder(self, folder_path):\n",
        "    point_cloud_set = []\n",
        "    for root, dirs, files in os.walk(folder_path):\n",
        "        for file in files:\n",
        "            file_path = os.path.join(root, file)\n",
        "            point_cloud_set.append(self.ParseOBJFile(file_path))\n",
        "    print(len(point_cloud_set))\n",
        "    return point_cloud_set\n",
        "\n",
        "  def ParseOBJFile(self, file_path):\n",
        "    point_cloud = []\n",
        "    with open(file_path, 'r') as f:\n",
        "        for line in f:\n",
        "            if line.startswith('v '):\n",
        "                line_split = line.split()[1:]\n",
        "                point = Vector(float(line_split[0]), float(line_split[1]), float(line_split[2]))\n",
        "                point_cloud.append(point)\n",
        "    return point_cloud\n",
        "\n",
        "  def GenerateBoundingBox(self, point_cloud):\n",
        "    bounding_box = BoundingBox()\n",
        "    for v in point_cloud:\n",
        "      bounding_box.min.x = min(v.x, bounding_box.min.x)\n",
        "      bounding_box.min.y = min(v.y, bounding_box.min.y)\n",
        "      bounding_box.min.z = min(v.z, bounding_box.min.z)\n",
        "      bounding_box.max.x = max(v.x, bounding_box.max.x)\n",
        "      bounding_box.max.y = max(v.y, bounding_box.max.y)\n",
        "      bounding_box.max.z = max(v.z, bounding_box.max.z)\n",
        "    return bounding_box\n",
        "\n",
        "  def ClampInRange(self, clamp_range, point_cloud_set):\n",
        "    for i in range(0, len(point_cloud_set)):\n",
        "      bounding_box = self.GenerateBoundingBox(point_cloud_set[i])\n",
        "\n",
        "      orig_scale_x = bounding_box.max.x - bounding_box.min.x\n",
        "      orig_scale_y = bounding_box.max.y - bounding_box.min.y\n",
        "      orig_scale_z = bounding_box.max.z - bounding_box.min.z\n",
        "\n",
        "      center_point = (bounding_box.max + bounding_box.min)*0.5\n",
        "\n",
        "      centered_points = [Vector(v.x - center_point.x,\n",
        "                                v.y - center_point.y,\n",
        "                                v.z - center_point.z)\n",
        "                          for v in point_cloud_set[i]]\n",
        "\n",
        "      scale_factor_x = (clamp_range.max.x - clamp_range.min.x) / orig_scale_x\n",
        "      scale_factor_y = (clamp_range.max.y - clamp_range.min.y) / orig_scale_y\n",
        "      scale_factor_z = (clamp_range.max.z - clamp_range.min.z) / orig_scale_z\n",
        "\n",
        "      point_cloud_set[i] = [Vector(v.x * scale_factor_x, v.y * scale_factor_y, v.z * scale_factor_z) for v in centered_points]\n",
        "    return point_cloud_set\n",
        "\n",
        "  def ConvertToVoxelizedMeshSet(self, point_cloud_set, grid_dimensions):\n",
        "    voxelized_mesh_set = []\n",
        "    for point_cloud in point_cloud_set:\n",
        "      voxelized_mesh = np.array(self.ConvertToVoxelizedMesh(point_cloud, grid_dimensions))\n",
        "      voxelized_mesh = voxelized_mesh.reshape((grid_dimensions.x, grid_dimensions.y, grid_dimensions.z))\n",
        "      voxelized_mesh_set.append(voxelized_mesh)\n",
        "    return voxelized_mesh_set\n",
        "\n",
        "  def ConvertToVoxelizedMesh(self, point_cloud, grid_dimensions):\n",
        "    size = grid_dimensions.x*grid_dimensions.y*grid_dimensions.z\n",
        "    voxelized_mesh = [0] * size\n",
        "    bounding_box = self.GenerateBoundingBox(point_cloud)\n",
        "    for point in point_cloud:\n",
        "      voxel_x = int((point.x - bounding_box.min.x) / (bounding_box.max.x - bounding_box.min.x) * grid_dimensions.x)\n",
        "      voxel_y = int((point.y - bounding_box.min.y) / (bounding_box.max.y - bounding_box.min.y) * grid_dimensions.y)\n",
        "      voxel_z = int((point.z - bounding_box.min.z) / (bounding_box.max.z - bounding_box.min.z) * grid_dimensions.z)\n",
        "      if 0 <= voxel_x < grid_dimensions.x and 0 <= voxel_y < grid_dimensions.y and 0 <= voxel_z < grid_dimensions.z:\n",
        "        voxel_index = voxel_z * (grid_dimensions.x * grid_dimensions.y) + voxel_y * grid_dimensions.x + voxel_x\n",
        "        voxelized_mesh[voxel_index] = 1\n",
        "    return voxelized_mesh"
      ],
      "metadata": {
        "id": "ocAG6zsh5IHS"
      },
      "execution_count": 38,
      "outputs": []
    },
    {
      "cell_type": "markdown",
      "source": [
        "Usage"
      ],
      "metadata": {
        "id": "3R6uQmCH4SHW"
      }
    },
    {
      "cell_type": "code",
      "source": [
        "import zipfile\n",
        "zip_file_path = '/content/drive/MyDrive/SimJEB_surfmesh_(obj).zip'\n",
        "src_folder_path = '/content/drive/MyDrive/SimJEB_surfmesh'\n",
        "\n",
        "with zipfile.ZipFile(zip_file_path, 'r') as zip_ref:\n",
        "    zip_ref.extractall(src_folder_path)\n",
        "\n",
        "clamp_range = BoundingBox()\n",
        "clamp_range.min = Vector(-5,-5,-5)\n",
        "clamp_range.max = Vector(5,5,5)\n",
        "grid_dimensions = Vector(32,32,32)\n",
        "dest_folder_path = \"/content/drive/MyDrive/dataset_2/\"\n",
        "\n",
        "objToVolumetricMeshConverter = ObjToVolumetricMeshConverter()\n",
        "objToVolumetricMeshConverter.Convert(src_folder_path, dest_folder_path, clamp_range, grid_dimensions)"
      ],
      "metadata": {
        "colab": {
          "base_uri": "https://localhost:8080/"
        },
        "id": "Zie4SWqB1H05",
        "outputId": "e9224eed-aabb-444a-ebc7-2b3ff3c0d01f"
      },
      "execution_count": 39,
      "outputs": [
        {
          "output_type": "stream",
          "name": "stdout",
          "text": [
            "382\n"
          ]
        }
      ]
    },
    {
      "cell_type": "markdown",
      "source": [
        "Point Cloud Visualizer"
      ],
      "metadata": {
        "id": "aw79LLDx_xIR"
      }
    },
    {
      "cell_type": "code",
      "source": [
        "import numpy as np\n",
        "import matplotlib.pyplot as plt\n",
        "from mpl_toolkits.mplot3d import Axes3D\n",
        "\n",
        "class PointCloudVisualizer:\n",
        "    def __init__(self):\n",
        "        self.fig = plt.figure()\n",
        "        self.ax = self.fig.add_subplot(111, projection='3d')\n",
        "\n",
        "    def Visualize(self, point_cloud_data):\n",
        "        num_points = len(point_cloud_data)\n",
        "\n",
        "        x = [point[0] for point in point_cloud_data]\n",
        "        y = [point[1] for point in point_cloud_data]\n",
        "        z = [point[2] for point in point_cloud_data]\n",
        "\n",
        "        self.ax.scatter(x, y, z)\n",
        "        self.ax.set_xlabel('X')\n",
        "        self.ax.set_ylabel('Y')\n",
        "        self.ax.set_zlabel('Z')\n",
        "\n",
        "        plt.show()"
      ],
      "metadata": {
        "id": "APq4fFwDc_Si"
      },
      "execution_count": null,
      "outputs": []
    }
  ]
}